{
 "cells": [
  {
   "cell_type": "markdown",
   "metadata": {},
   "source": [
    "# Module 3 : Performance measurements of Logistic regression and Linear regression algorithms"
   ]
  },
  {
   "cell_type": "code",
   "execution_count": 1,
   "metadata": {},
   "outputs": [],
   "source": [
    "#import library packages\n",
    "import pandas as p\n",
    "import matplotlib.pyplot as plt\n",
    "import seaborn as s\n",
    "import numpy as n"
   ]
  },
  {
   "cell_type": "code",
   "execution_count": 2,
   "metadata": {},
   "outputs": [],
   "source": [
    "#Load given dataset\n",
    "data = p.read_csv(\"demo1.csv\")"
   ]
  },
  {
   "cell_type": "code",
   "execution_count": 3,
   "metadata": {},
   "outputs": [],
   "source": [
    "import warnings\n",
    "warnings.filterwarnings('ignore')"
   ]
  },
  {
   "cell_type": "code",
   "execution_count": 4,
   "metadata": {},
   "outputs": [],
   "source": [
    "df=data.dropna()"
   ]
  },
  {
   "cell_type": "code",
   "execution_count": 5,
   "metadata": {},
   "outputs": [
    {
     "data": {
      "text/html": [
       "<div>\n",
       "<style scoped>\n",
       "    .dataframe tbody tr th:only-of-type {\n",
       "        vertical-align: middle;\n",
       "    }\n",
       "\n",
       "    .dataframe tbody tr th {\n",
       "        vertical-align: top;\n",
       "    }\n",
       "\n",
       "    .dataframe thead th {\n",
       "        text-align: right;\n",
       "    }\n",
       "</style>\n",
       "<table border=\"1\" class=\"dataframe\">\n",
       "  <thead>\n",
       "    <tr style=\"text-align: right;\">\n",
       "      <th></th>\n",
       "      <th>slug</th>\n",
       "      <th>symbol</th>\n",
       "      <th>name</th>\n",
       "      <th>date</th>\n",
       "      <th>ranknow</th>\n",
       "      <th>open</th>\n",
       "      <th>high</th>\n",
       "      <th>low</th>\n",
       "      <th>close</th>\n",
       "      <th>volume</th>\n",
       "      <th>market_price</th>\n",
       "      <th>close_ratio</th>\n",
       "      <th>spread</th>\n",
       "    </tr>\n",
       "  </thead>\n",
       "  <tbody>\n",
       "    <tr>\n",
       "      <th>0</th>\n",
       "      <td>ethereum</td>\n",
       "      <td>ETH</td>\n",
       "      <td>Ethereum</td>\n",
       "      <td>8/7/2015</td>\n",
       "      <td>3</td>\n",
       "      <td>2.830000</td>\n",
       "      <td>3.540000</td>\n",
       "      <td>2.520000</td>\n",
       "      <td>2.770000</td>\n",
       "      <td>164329</td>\n",
       "      <td>166610555</td>\n",
       "      <td>0.2451</td>\n",
       "      <td>1.02</td>\n",
       "    </tr>\n",
       "    <tr>\n",
       "      <th>1</th>\n",
       "      <td>ethereum</td>\n",
       "      <td>ETH</td>\n",
       "      <td>Ethereum</td>\n",
       "      <td>8/8/2015</td>\n",
       "      <td>3</td>\n",
       "      <td>2.790000</td>\n",
       "      <td>2.800000</td>\n",
       "      <td>0.714725</td>\n",
       "      <td>0.753325</td>\n",
       "      <td>674188</td>\n",
       "      <td>45486894</td>\n",
       "      <td>0.0185</td>\n",
       "      <td>2.09</td>\n",
       "    </tr>\n",
       "    <tr>\n",
       "      <th>2</th>\n",
       "      <td>ethereum</td>\n",
       "      <td>ETH</td>\n",
       "      <td>Ethereum</td>\n",
       "      <td>8/9/2015</td>\n",
       "      <td>3</td>\n",
       "      <td>0.706136</td>\n",
       "      <td>0.879810</td>\n",
       "      <td>0.629191</td>\n",
       "      <td>0.701897</td>\n",
       "      <td>532170</td>\n",
       "      <td>42399573</td>\n",
       "      <td>0.2901</td>\n",
       "      <td>0.25</td>\n",
       "    </tr>\n",
       "    <tr>\n",
       "      <th>3</th>\n",
       "      <td>ethereum</td>\n",
       "      <td>ETH</td>\n",
       "      <td>Ethereum</td>\n",
       "      <td>8/10/2015</td>\n",
       "      <td>3</td>\n",
       "      <td>0.713989</td>\n",
       "      <td>0.729854</td>\n",
       "      <td>0.636546</td>\n",
       "      <td>0.708448</td>\n",
       "      <td>405283</td>\n",
       "      <td>42818364</td>\n",
       "      <td>0.7706</td>\n",
       "      <td>0.09</td>\n",
       "    </tr>\n",
       "    <tr>\n",
       "      <th>4</th>\n",
       "      <td>ethereum</td>\n",
       "      <td>ETH</td>\n",
       "      <td>Ethereum</td>\n",
       "      <td>8/11/2015</td>\n",
       "      <td>3</td>\n",
       "      <td>0.708087</td>\n",
       "      <td>1.130000</td>\n",
       "      <td>0.663235</td>\n",
       "      <td>1.070000</td>\n",
       "      <td>1463100</td>\n",
       "      <td>64569288</td>\n",
       "      <td>0.8715</td>\n",
       "      <td>0.47</td>\n",
       "    </tr>\n",
       "  </tbody>\n",
       "</table>\n",
       "</div>"
      ],
      "text/plain": [
       "       slug symbol      name       date  ranknow      open      high  \\\n",
       "0  ethereum    ETH  Ethereum   8/7/2015        3  2.830000  3.540000   \n",
       "1  ethereum    ETH  Ethereum   8/8/2015        3  2.790000  2.800000   \n",
       "2  ethereum    ETH  Ethereum   8/9/2015        3  0.706136  0.879810   \n",
       "3  ethereum    ETH  Ethereum  8/10/2015        3  0.713989  0.729854   \n",
       "4  ethereum    ETH  Ethereum  8/11/2015        3  0.708087  1.130000   \n",
       "\n",
       "        low     close   volume  market_price  close_ratio  spread  \n",
       "0  2.520000  2.770000   164329     166610555       0.2451    1.02  \n",
       "1  0.714725  0.753325   674188      45486894       0.0185    2.09  \n",
       "2  0.629191  0.701897   532170      42399573       0.2901    0.25  \n",
       "3  0.636546  0.708448   405283      42818364       0.7706    0.09  \n",
       "4  0.663235  1.070000  1463100      64569288       0.8715    0.47  "
      ]
     },
     "execution_count": 5,
     "metadata": {},
     "output_type": "execute_result"
    }
   ],
   "source": [
    "df.head()"
   ]
  },
  {
   "cell_type": "code",
   "execution_count": 6,
   "metadata": {},
   "outputs": [
    {
     "data": {
      "text/plain": [
       "Index(['slug', 'symbol', 'name', 'date', 'ranknow', 'open', 'high', 'low',\n",
       "       'close', 'volume', 'market_price', 'close_ratio', 'spread'],\n",
       "      dtype='object')"
      ]
     },
     "execution_count": 6,
     "metadata": {},
     "output_type": "execute_result"
    }
   ],
   "source": [
    "df.columns"
   ]
  },
  {
   "cell_type": "code",
   "execution_count": 7,
   "metadata": {},
   "outputs": [
    {
     "name": "stdout",
     "output_type": "stream",
     "text": [
      "<class 'pandas.core.frame.DataFrame'>\n",
      "Int64Index: 1078 entries, 0 to 1077\n",
      "Data columns (total 13 columns):\n",
      " #   Column        Non-Null Count  Dtype  \n",
      "---  ------        --------------  -----  \n",
      " 0   slug          1078 non-null   object \n",
      " 1   symbol        1078 non-null   object \n",
      " 2   name          1078 non-null   object \n",
      " 3   date          1078 non-null   object \n",
      " 4   ranknow       1078 non-null   int64  \n",
      " 5   open          1078 non-null   float64\n",
      " 6   high          1078 non-null   float64\n",
      " 7   low           1078 non-null   float64\n",
      " 8   close         1078 non-null   float64\n",
      " 9   volume        1078 non-null   int64  \n",
      " 10  market_price  1078 non-null   int64  \n",
      " 11  close_ratio   1078 non-null   float64\n",
      " 12  spread        1078 non-null   float64\n",
      "dtypes: float64(6), int64(3), object(4)\n",
      "memory usage: 117.9+ KB\n"
     ]
    }
   ],
   "source": [
    "df.info()"
   ]
  },
  {
   "cell_type": "code",
   "execution_count": 8,
   "metadata": {},
   "outputs": [],
   "source": [
    "del df['symbol']\n",
    "del df['name']\n",
    "del df['date']\n",
    "del df['ranknow']\n",
    "del df['close_ratio']\n",
    "del df['spread']\n"
   ]
  },
  {
   "cell_type": "code",
   "execution_count": 9,
   "metadata": {},
   "outputs": [
    {
     "data": {
      "text/plain": [
       "Index(['slug', 'open', 'high', 'low', 'close', 'volume', 'market_price'], dtype='object')"
      ]
     },
     "execution_count": 9,
     "metadata": {},
     "output_type": "execute_result"
    }
   ],
   "source": [
    "df.columns"
   ]
  },
  {
   "cell_type": "code",
   "execution_count": 10,
   "metadata": {},
   "outputs": [
    {
     "data": {
      "text/plain": [
       "array(['ethereum', 'bitcoin', 'cardano', 'binance-coin'], dtype=object)"
      ]
     },
     "execution_count": 10,
     "metadata": {},
     "output_type": "execute_result"
    }
   ],
   "source": [
    "df[\"slug\"].unique()"
   ]
  },
  {
   "cell_type": "code",
   "execution_count": 11,
   "metadata": {},
   "outputs": [],
   "source": [
    "from sklearn.preprocessing import LabelEncoder\n",
    "var_mod = ['slug']\n",
    "le = LabelEncoder()\n",
    "for i in var_mod:\n",
    "    df[i] = le.fit_transform(df[i]).astype(int)"
   ]
  },
  {
   "cell_type": "code",
   "execution_count": 13,
   "metadata": {},
   "outputs": [
    {
     "data": {
      "text/plain": [
       "array([3, 1, 2, 0])"
      ]
     },
     "execution_count": 13,
     "metadata": {},
     "output_type": "execute_result"
    }
   ],
   "source": [
    "df[\"slug\"].unique()"
   ]
  },
  {
   "cell_type": "code",
   "execution_count": 14,
   "metadata": {},
   "outputs": [
    {
     "data": {
      "text/html": [
       "<div>\n",
       "<style scoped>\n",
       "    .dataframe tbody tr th:only-of-type {\n",
       "        vertical-align: middle;\n",
       "    }\n",
       "\n",
       "    .dataframe tbody tr th {\n",
       "        vertical-align: top;\n",
       "    }\n",
       "\n",
       "    .dataframe thead th {\n",
       "        text-align: right;\n",
       "    }\n",
       "</style>\n",
       "<table border=\"1\" class=\"dataframe\">\n",
       "  <thead>\n",
       "    <tr style=\"text-align: right;\">\n",
       "      <th></th>\n",
       "      <th>slug</th>\n",
       "      <th>open</th>\n",
       "      <th>high</th>\n",
       "      <th>low</th>\n",
       "      <th>close</th>\n",
       "      <th>volume</th>\n",
       "      <th>market_price</th>\n",
       "    </tr>\n",
       "  </thead>\n",
       "  <tbody>\n",
       "    <tr>\n",
       "      <th>0</th>\n",
       "      <td>3</td>\n",
       "      <td>2.830000</td>\n",
       "      <td>3.540000</td>\n",
       "      <td>2.520000</td>\n",
       "      <td>2.770000</td>\n",
       "      <td>164329</td>\n",
       "      <td>166610555</td>\n",
       "    </tr>\n",
       "    <tr>\n",
       "      <th>1</th>\n",
       "      <td>3</td>\n",
       "      <td>2.790000</td>\n",
       "      <td>2.800000</td>\n",
       "      <td>0.714725</td>\n",
       "      <td>0.753325</td>\n",
       "      <td>674188</td>\n",
       "      <td>45486894</td>\n",
       "    </tr>\n",
       "    <tr>\n",
       "      <th>2</th>\n",
       "      <td>3</td>\n",
       "      <td>0.706136</td>\n",
       "      <td>0.879810</td>\n",
       "      <td>0.629191</td>\n",
       "      <td>0.701897</td>\n",
       "      <td>532170</td>\n",
       "      <td>42399573</td>\n",
       "    </tr>\n",
       "    <tr>\n",
       "      <th>3</th>\n",
       "      <td>3</td>\n",
       "      <td>0.713989</td>\n",
       "      <td>0.729854</td>\n",
       "      <td>0.636546</td>\n",
       "      <td>0.708448</td>\n",
       "      <td>405283</td>\n",
       "      <td>42818364</td>\n",
       "    </tr>\n",
       "    <tr>\n",
       "      <th>4</th>\n",
       "      <td>3</td>\n",
       "      <td>0.708087</td>\n",
       "      <td>1.130000</td>\n",
       "      <td>0.663235</td>\n",
       "      <td>1.070000</td>\n",
       "      <td>1463100</td>\n",
       "      <td>64569288</td>\n",
       "    </tr>\n",
       "  </tbody>\n",
       "</table>\n",
       "</div>"
      ],
      "text/plain": [
       "   slug      open      high       low     close   volume  market_price\n",
       "0     3  2.830000  3.540000  2.520000  2.770000   164329     166610555\n",
       "1     3  2.790000  2.800000  0.714725  0.753325   674188      45486894\n",
       "2     3  0.706136  0.879810  0.629191  0.701897   532170      42399573\n",
       "3     3  0.713989  0.729854  0.636546  0.708448   405283      42818364\n",
       "4     3  0.708087  1.130000  0.663235  1.070000  1463100      64569288"
      ]
     },
     "execution_count": 14,
     "metadata": {},
     "output_type": "execute_result"
    }
   ],
   "source": [
    "df.head()"
   ]
  },
  {
   "cell_type": "code",
   "execution_count": 15,
   "metadata": {},
   "outputs": [
    {
     "data": {
      "text/html": [
       "<div>\n",
       "<style scoped>\n",
       "    .dataframe tbody tr th:only-of-type {\n",
       "        vertical-align: middle;\n",
       "    }\n",
       "\n",
       "    .dataframe tbody tr th {\n",
       "        vertical-align: top;\n",
       "    }\n",
       "\n",
       "    .dataframe thead th {\n",
       "        text-align: right;\n",
       "    }\n",
       "</style>\n",
       "<table border=\"1\" class=\"dataframe\">\n",
       "  <thead>\n",
       "    <tr style=\"text-align: right;\">\n",
       "      <th></th>\n",
       "      <th>slug</th>\n",
       "      <th>open</th>\n",
       "      <th>high</th>\n",
       "      <th>low</th>\n",
       "      <th>close</th>\n",
       "      <th>volume</th>\n",
       "      <th>market_price</th>\n",
       "    </tr>\n",
       "  </thead>\n",
       "  <tbody>\n",
       "    <tr>\n",
       "      <th>1073</th>\n",
       "      <td>0</td>\n",
       "      <td>14.57</td>\n",
       "      <td>14.84</td>\n",
       "      <td>13.75</td>\n",
       "      <td>13.93</td>\n",
       "      <td>86545104</td>\n",
       "      <td>1588081985</td>\n",
       "    </tr>\n",
       "    <tr>\n",
       "      <th>1074</th>\n",
       "      <td>0</td>\n",
       "      <td>13.85</td>\n",
       "      <td>13.93</td>\n",
       "      <td>12.33</td>\n",
       "      <td>12.63</td>\n",
       "      <td>68215200</td>\n",
       "      <td>1439908137</td>\n",
       "    </tr>\n",
       "    <tr>\n",
       "      <th>1075</th>\n",
       "      <td>0</td>\n",
       "      <td>12.61</td>\n",
       "      <td>13.19</td>\n",
       "      <td>12.20</td>\n",
       "      <td>13.00</td>\n",
       "      <td>54410900</td>\n",
       "      <td>1482570984</td>\n",
       "    </tr>\n",
       "    <tr>\n",
       "      <th>1076</th>\n",
       "      <td>0</td>\n",
       "      <td>13.03</td>\n",
       "      <td>13.37</td>\n",
       "      <td>12.64</td>\n",
       "      <td>13.01</td>\n",
       "      <td>49173800</td>\n",
       "      <td>1483449102</td>\n",
       "    </tr>\n",
       "    <tr>\n",
       "      <th>1077</th>\n",
       "      <td>0</td>\n",
       "      <td>12.96</td>\n",
       "      <td>13.20</td>\n",
       "      <td>12.70</td>\n",
       "      <td>12.76</td>\n",
       "      <td>43258400</td>\n",
       "      <td>1455064225</td>\n",
       "    </tr>\n",
       "  </tbody>\n",
       "</table>\n",
       "</div>"
      ],
      "text/plain": [
       "      slug   open   high    low  close    volume  market_price\n",
       "1073     0  14.57  14.84  13.75  13.93  86545104    1588081985\n",
       "1074     0  13.85  13.93  12.33  12.63  68215200    1439908137\n",
       "1075     0  12.61  13.19  12.20  13.00  54410900    1482570984\n",
       "1076     0  13.03  13.37  12.64  13.01  49173800    1483449102\n",
       "1077     0  12.96  13.20  12.70  12.76  43258400    1455064225"
      ]
     },
     "execution_count": 15,
     "metadata": {},
     "output_type": "execute_result"
    }
   ],
   "source": [
    "df.tail()"
   ]
  },
  {
   "cell_type": "code",
   "execution_count": 16,
   "metadata": {},
   "outputs": [],
   "source": [
    "\n",
    "from sklearn.metrics import mean_absolute_error,mean_squared_error,r2_score,explained_variance_score,median_absolute_error"
   ]
  },
  {
   "cell_type": "code",
   "execution_count": 17,
   "metadata": {},
   "outputs": [],
   "source": [
    "X = df.drop(labels='market_price', axis=1)\n",
    "#Response variable\n",
    "y = df.loc[:,'market_price']    "
   ]
  },
  {
   "cell_type": "code",
   "execution_count": 18,
   "metadata": {},
   "outputs": [],
   "source": [
    "\n",
    "#We'll use a test size of 30%. We also stratify the split on the response variable, which is very important to do because there are so few fraudulent transactions.\n",
    "from sklearn.model_selection import train_test_split\n",
    "X_train, X_test, y_train, y_test = train_test_split(X, y, test_size=0.3)"
   ]
  },
  {
   "cell_type": "markdown",
   "metadata": {},
   "source": [
    "# Logistic Regression :"
   ]
  },
  {
   "cell_type": "code",
   "execution_count": 19,
   "metadata": {},
   "outputs": [
    {
     "name": "stdout",
     "output_type": "stream",
     "text": [
      "MEAN ABSOLUTE ERROR VALUE IS : 11993794559.462963\n",
      " \n",
      "MEAN SQUARED ERROR VALUE IS : 4.821828021966895e+17\n",
      " \n",
      "MEDIAN ABSOLUTE ERROR VALUE IS : 12419393852.0\n",
      " \n",
      "ACCURACY RESULT OF LOGISTIC REGRESSION IS : -1.5251803069257441\n",
      " \n",
      "R2_SCORE VALUE IS : 0.9788731004840712\n",
      " \n"
     ]
    }
   ],
   "source": [
    "from sklearn.linear_model import LogisticRegression\n",
    "logR= LogisticRegression()\n",
    "logR.fit(X_train,y_train)\n",
    "\n",
    "predictR = logR.predict(X_test)\n",
    "\n",
    "MAE= (mean_absolute_error(y_test,predictR))\n",
    "print('MEAN ABSOLUTE ERROR VALUE IS :',MAE)\n",
    "print(\" \")\n",
    "\n",
    "MSE=(mean_squared_error(y_test,predictR))\n",
    "print('MEAN SQUARED ERROR VALUE IS :',MSE)\n",
    "print(\" \")\n",
    "\n",
    "MedianAE=(median_absolute_error(y_test,predictR))\n",
    "print('MEDIAN ABSOLUTE ERROR VALUE IS :',MedianAE)\n",
    "print(\" \")\n",
    "\n",
    "EVS=(explained_variance_score(y_test,predictR)*100)\n",
    "print('ACCURACY RESULT OF LOGISTIC REGRESSION IS :',EVS)\n",
    "print(\" \")\n",
    "\n",
    "R2=(r2_score(y_test,predictR))\n",
    "print('R2_SCORE VALUE IS :',R2)\n",
    "print(\" \")\n",
    "\n"
   ]
  },
  {
   "cell_type": "markdown",
   "metadata": {},
   "source": [
    "# LinearRegression"
   ]
  },
  {
   "cell_type": "code",
   "execution_count": 20,
   "metadata": {},
   "outputs": [
    {
     "name": "stdout",
     "output_type": "stream",
     "text": [
      "MEAN ABSOLUTE ERROR VALUE IS : 1447586063.1038122\n",
      " \n",
      "MEAN SQUARED ERROR VALUE IS : 9.014874172449865e+18\n",
      " \n",
      "MEDIAN ABSOLUTE ERROR VALUE IS : 513045666.1115152\n",
      " \n",
      "ACCURACY RESULT OF LINEAR REGRESSION IS : 60.85305915377125\n",
      " \n",
      "R2_SCORE VALUE IS : 0.6050121656715569\n",
      " \n"
     ]
    }
   ],
   "source": [
    "from sklearn.linear_model import LinearRegression\n",
    "linR= LinearRegression()\n",
    "linR.fit(X_train,y_train)\n",
    "\n",
    "predictL = linR.predict(X_test)\n",
    "\n",
    "MAE= (mean_absolute_error(y_test,predictL))\n",
    "print('MEAN ABSOLUTE ERROR VALUE IS :',MAE)\n",
    "print(\" \")\n",
    "\n",
    "MSE=(mean_squared_error(y_test,predictL))\n",
    "print('MEAN SQUARED ERROR VALUE IS :',MSE)\n",
    "print(\" \")\n",
    "\n",
    "MedianAE=(median_absolute_error(y_test,predictL))\n",
    "print('MEDIAN ABSOLUTE ERROR VALUE IS :',MedianAE)\n",
    "print(\" \")\n",
    "\n",
    "EVS=(explained_variance_score(y_test,predictL)*100)\n",
    "print('ACCURACY RESULT OF LINEAR REGRESSION IS :',EVS)\n",
    "print(\" \")\n",
    "\n",
    "R2=(r2_score(y_test,predictL))\n",
    "print('R2_SCORE VALUE IS :',R2)\n",
    "print(\" \")\n"
   ]
  },
  {
   "cell_type": "code",
   "execution_count": 21,
   "metadata": {},
   "outputs": [
    {
     "name": "stdout",
     "output_type": "stream",
     "text": [
      "Coefficients: \n",
      " [ 6.94652790e+08 -2.11808438e+06  1.87417800e+06  2.35434089e+06\n",
      "  8.65784891e+06  1.63976301e+01]\n",
      "Variance score: 0.6050121656715569\n"
     ]
    },
    {
     "data": {
      "image/png": "[encoded data removed]",
      "text/plain": [
       "<Figure size 432x288 with 1 Axes>"
      ]
     },
     "metadata": {},
     "output_type": "display_data"
    }
   ],
   "source": [
    "from sklearn.linear_model import LinearRegression\n",
    "reg= LinearRegression()\n",
    "reg.fit(X_train, y_train)\n",
    "print('Coefficients: \\n', reg.coef_)\n",
    "print('Variance score: {}'.format(reg.score(X_test, y_test)))\n",
    "plt.style.use('fivethirtyeight')\n",
    "plt.scatter(reg.predict(X_train), reg.predict(X_train) - y_train,\n",
    "   color = \"green\", s = 10, label = 'Train data')\n",
    "plt.scatter(reg.predict(X_test), reg.predict(X_test) - y_test,\n",
    "   color = \"blue\", s = 10, label = 'Test data')\n",
    "plt.hlines(y = 0, xmin = 0, xmax = 50, linewidth = 2)\n",
    "plt.legend(loc = 'upper right')\n",
    "plt.title(\"Residual errors\")\n",
    "plt.show()"
   ]
  },
  {
   "cell_type": "code",
   "execution_count": null,
   "metadata": {},
   "outputs": [],
   "source": []
  }
 ],
 "metadata": {
  "kernelspec": {
   "display_name": "Python 3 (ipykernel)",
   "language": "python",
   "name": "python3"
  },
  "language_info": {
   "codemirror_mode": {
    "name": "ipython",
    "version": 3
   },
   "file_extension": ".py",
   "mimetype": "text/x-python",
   "name": "python",
   "nbconvert_exporter": "python",
   "pygments_lexer": "ipython3",
   "version": "3.9.12"
  }
 },
 "nbformat": 4,
 "nbformat_minor": 2
}
